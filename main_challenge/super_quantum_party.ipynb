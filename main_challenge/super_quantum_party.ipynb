{
 "cells": [
  {
   "cell_type": "code",
   "execution_count": 4,
   "id": "98503fec",
   "metadata": {},
   "outputs": [],
   "source": [
    "from qiskit import QuantumCircuit, QuantumRegister, ClassicalRegister\n",
    "from qiskit_aer import AerSimulator\n",
    "from qiskit.visualization import plot_histogram, array_to_latex\n",
    "from qiskit.result import marginal_distribution\n",
    "from qiskit.circuit.library import UGate\n",
    "from numpy import pi, random"
   ]
  },
  {
   "cell_type": "markdown",
   "id": "1f25897e",
   "metadata": {},
   "source": [
    "#### Pour tester le jeux, vous devez créer un environement virtuel avec python 1.12+, installer les package dans requirements.txt \n",
    "\n",
    "#### et faire la commande `python -m the_game` dans le root du repo. des screenshots du jeux sont mis plus en bas dans ce notebook\n",
    "\n",
    "Voir le README.md pour plus de détail sur comment le jeux fonctionne et les différents concept en quantique intégré"
   ]
  },
  {
   "cell_type": "markdown",
   "id": "9a31e3ff",
   "metadata": {},
   "source": [
    "Lors du déplacement de notre personnage, nous utilisons un Quantum Random Walk afin de trouver une valeur aléatoire"
   ]
  },
  {
   "cell_type": "code",
   "execution_count": 175,
   "id": "c26db9d0",
   "metadata": {},
   "outputs": [
    {
     "name": "stdout",
     "output_type": "stream",
     "text": [
      "('000', '001', '010', '011', '100', '101', '110')\n",
      "(161, 1619, 834, 1190, 2043, 3998, 155)\n"
     ]
    },
    {
     "data": {
      "image/png": "[encoded data removed]",
      "text/plain": [
       "<Figure size 640x480 with 1 Axes>"
      ]
     },
     "metadata": {},
     "output_type": "display_data"
    },
    {
     "name": "stdout",
     "output_type": "stream",
     "text": [
      "Dice roll: 6\n"
     ]
    }
   ],
   "source": [
    "from qiskit import QuantumCircuit\n",
    "from qiskit_aer import AerSimulator\n",
    "import matplotlib.pyplot as plt\n",
    "\n",
    "_simulator = AerSimulator()\n",
    "def plotting_stuff(counts):\n",
    "    \"\"\"Plotting stuff.\n",
    "    \"\"\"\n",
    "    sorted_items = sorted(\n",
    "        counts.items(),\n",
    "        key=lambda kv: int(kv[0], 2)        # use kv[0] because kv = (key, value)\n",
    "    )    # -> [('000', 3), ('010', 12), ('011', 7)]\n",
    "\n",
    "    # 2️⃣  If you just need parallel lists:\n",
    "    keys_sorted, counts_sorted = zip(*sorted_items)\n",
    "\n",
    "    # lists() if you really need list objects instead of tuples\n",
    "    keys   = list(keys_sorted)\n",
    "    counts = list(counts_sorted)\n",
    "\n",
    "    print(keys_sorted)    # ['000', '010', '011']\n",
    "    print(counts_sorted)  # [3, 12, 7]\n",
    "\n",
    "    # 3️⃣  Or rebuild an ordered dict / regular dict (3.7+ preserves insertion order):\n",
    "    sorted_counts = dict(sorted_items)\n",
    "\n",
    "    # Normalization (0‑1 range) – divide by the maximum count\n",
    "    max_count = sum(counts)\n",
    "    normalized = [c / max_count for c in counts]\n",
    "\n",
    "    # Plot\n",
    "    plt.figure()\n",
    "    plt.bar(keys, normalized)\n",
    "    plt.xlabel('Bit‑string')\n",
    "    plt.ylabel('Normalized count (max = 1)')\n",
    "    plt.title('Normalized distribution (counts / max)')\n",
    "    plt.tight_layout()\n",
    "    plt.show()\n",
    "\n",
    "def controlled_displacement(qc):\n",
    "        qc.mcx([0,1,2], 3, ctrl_state=None, mode='noancilla')\n",
    "        qc.mcx([0,1], 2, ctrl_state=None, mode='noancilla')\n",
    "        qc.mcx([0,], 1, ctrl_state=None, mode='noancilla')\n",
    "        return qc\n",
    "\n",
    "def quantum_walk_roll(step=6):\n",
    "    \"\"\"Return a dice roll using a quantum walk.\n",
    "    \"\"\"\n",
    "    get_out = 0\n",
    "    while get_out <= 1000:\n",
    "        qc = QuantumCircuit(4, 3)\n",
    "        qc.x(0)\n",
    "        qc.h(0)\n",
    "        random_walk_nb_steps = step\n",
    "        for i in range(random_walk_nb_steps):\n",
    "            qc = controlled_displacement(qc)\n",
    "            qc.h(0)\n",
    "        qc.measure([1, 2, 3], [0, 1, 2])\n",
    "        qc.draw(output='mpl', filename='quantum_walk_roll.png', fold=-1)\n",
    "        result = _simulator.run(qc, shots=10000).result()\n",
    "        counts = result.get_counts()\n",
    "        outcome = list(counts.keys())[0]\n",
    "        value = int(outcome, 2)\n",
    "\n",
    "\n",
    "        get_out += 1\n",
    "        if value < 6: # s'assure qu'on reste entre 0 et 6\n",
    "            plotting_stuff(counts)\n",
    "            return value + 1\n",
    "value = quantum_walk_roll(6)\n",
    "print(f\"Dice roll: {value}\")\n"
   ]
  },
  {
   "cell_type": "markdown",
   "id": "89763523",
   "metadata": {},
   "source": [
    "Notre mini jeux quantique utilise qiskit. le but est de maximiser un résultat dépendemment du résultat voulue du joueur (01 et 10 bloque certain passages, 11 inverse tout les chemins, 00 fait rien)"
   ]
  },
  {
   "cell_type": "code",
   "execution_count": 3,
   "id": "b0093ec4",
   "metadata": {},
   "outputs": [
    {
     "ename": "SystemExit",
     "evalue": "",
     "output_type": "error",
     "traceback": [
      "An exception has occurred, use %tb to see the full traceback.\n",
      "\u001b[1;31mSystemExit\u001b[0m\n"
     ]
    },
    {
     "name": "stderr",
     "output_type": "stream",
     "text": [
      "c:\\Users\\Kuift\\AppData\\Local\\Programs\\Python\\Python312\\Lib\\site-packages\\IPython\\core\\interactiveshell.py:3587: UserWarning: To exit: use 'exit', 'quit', or Ctrl-D.\n",
      "  warn(\"To exit: use 'exit', 'quit', or Ctrl-D.\", stacklevel=1)\n"
     ]
    }
   ],
   "source": [
    "import pygame\n",
    "import sys\n",
    "from main_challenge.QuantumCircuit.Player import Player  # Import Player from external file\n",
    "from main_challenge.QuantumCircuit.CircuitSimulator import CircuitSimulator\n",
    "from main_challenge.QuantumCircuit.GameUI import GameUI\n",
    "\n",
    "from qiskit import QuantumCircuit\n",
    "from qiskit_aer.noise import NoiseModel, depolarizing_error\n",
    "\n",
    "# --- Game Setup ---\n",
    "\n",
    "pygame.init()\n",
    "WIDTH, HEIGHT = 1500, 600  \n",
    "screen = pygame.display.set_mode((WIDTH, HEIGHT))\n",
    "pygame.display.set_caption(\"Quantum Gate Minigame\")\n",
    "font = pygame.font.SysFont(None, 32)\n",
    "players = [Player(\"Mario\"), Player(\"Luigi\"), Player(\"Yoshi\"), Player(\"Peach\")]\n",
    "current_player = 0\n",
    "skipped_players = set()\n",
    "\n",
    "# --- Gate UI Setup ---\n",
    "\n",
    "GATE_COLORS = {\"H\": (200,200,255),\"Z\": (255,200,200),\"Y\": (200,255,200),\"X\": (255,255,200),\"CNOT\": (200,255,255),\"SWAP\": (255,200,255), \"DECOH\": (120,120,120)}\n",
    "GATE_LIST = [\"H\",\"Z\",\"Y\",\"X\",\"CNOT\",\"SWAP\"]\n",
    "gate_rects = {}\n",
    "for i, gate in enumerate(GATE_LIST):\n",
    "    gate_rects[gate] = pygame.Rect(30, 50 + i*60, 80, 40)\n",
    "\n",
    "# --- Circuit State ---\n",
    "MAX_GATES = 20\n",
    "\n",
    "qiskit_circuit = CircuitSimulator.create_empty_circuit()\n",
    "gate_history = [(\"H\", 0), (\"H\", 1, \"layer0\")]  \n",
    "\n",
    "# --- Decoherence State ---\n",
    "\n",
    "def get_decoherence_percent():\n",
    "    # Decoherence is now 10% per DECOH gate (max 100)\n",
    "    decoh_gates = [g for g in gate_history if g[0] == \"DECOH\"]\n",
    "    percent = min(100, len(decoh_gates) * 20)\n",
    "    return percent\n",
    "\n",
    "\n",
    "# --- Drag and Drop ---\n",
    "dragging_gate = None\n",
    "drag_offset = (0,0)\n",
    "drag_pos = (0,0)\n",
    "\n",
    "# --- Main Loop ---\n",
    "\n",
    "measurement_result = None\n",
    "\n",
    "def next_player():\n",
    "    global current_player\n",
    "    n = len(players)\n",
    "    for _ in range(n):\n",
    "        current_player = (current_player + 1) % n\n",
    "        if current_player not in skipped_players:\n",
    "            return\n",
    "\n",
    "while True:\n",
    "    screen.fill((240,240,240))\n",
    "    GameUI.draw_player_info(screen, font, players, current_player)\n",
    "    GameUI.draw_gates(screen, font, players[current_player], players, current_player, gate_rects, GATE_LIST, GATE_COLORS)\n",
    "    GameUI.draw_circuit(screen, font, gate_history, GATE_COLORS, MAX_GATES)\n",
    "    btn_rect = GameUI.draw_measure_button(screen, font, WIDTH, HEIGHT)\n",
    "    skip_btn_rect = GameUI.draw_skip_button(screen, font, WIDTH, HEIGHT)\n",
    "    # Draw decoherence percent\n",
    "    \n",
    "    decoh_percent = get_decoherence_percent()\n",
    "\n",
    "    decoh_txt = font.render(f\"Decoherence chance: {decoh_percent}%\", True, (120,0,0))\n",
    "\n",
    "    screen.blit(decoh_txt, (WIDTH-350, HEIGHT-180))\n",
    "    if measurement_result:\n",
    "        txt = font.render(f\"Measured: {measurement_result}\", True, (0,0,0))\n",
    "        screen.blit(txt, (WIDTH-300, HEIGHT-140))\n",
    "    # Draw dragging gate if any\n",
    "    if dragging_gate:\n",
    "        mx, my = drag_pos\n",
    "        pygame.draw.rect(screen, GATE_COLORS[dragging_gate], (mx-40, my-20, 80, 40))\n",
    "        txt = font.render(dragging_gate, True, (0,0,0))\n",
    "        screen.blit(txt, (mx-20, my-10))\n",
    "    pygame.display.flip()\n",
    "\n",
    "    for event in pygame.event.get():\n",
    "        if event.type == pygame.QUIT:\n",
    "            pygame.quit()\n",
    "            sys.exit()\n",
    "        elif event.type == pygame.MOUSEBUTTONDOWN:\n",
    "            mx, my = event.pos\n",
    "            if skip_btn_rect.collidepoint(mx, my):\n",
    "                skipped_players.add(current_player)\n",
    "                next_player()\n",
    "                dragging_gate = None\n",
    "                drag_pos = (0,0)\n",
    "                continue\n",
    "            for gate, rect in gate_rects.items():\n",
    "                if rect.collidepoint(mx, my) and players[current_player].gates[gate] > 0:\n",
    "                    dragging_gate = gate\n",
    "                    drag_offset = (mx - rect.x, my - rect.y)\n",
    "                    drag_pos = (mx, my)\n",
    "            if btn_rect.collidepoint(mx, my):\n",
    "                # Apply decoherence noise model\n",
    "                percent = get_decoherence_percent()\n",
    "                noise_model = CircuitSimulator.apply_decoherence_noise(qiskit_circuit, percent)\n",
    "                measurement_result = CircuitSimulator.apply_circuit(qiskit_circuit, noise_model=noise_model,gate_history=gate_history)\n",
    "        elif event.type == pygame.MOUSEBUTTONUP:\n",
    "            if dragging_gate:\n",
    "                mx, my = event.pos\n",
    "                base_x = 200\n",
    "                gate_layer = max(0, len(gate_history) - 2)\n",
    "                drop_x = base_x + (gate_layer+2)*60\n",
    "                dropped = False\n",
    "                for q in range(2):\n",
    "                    y = 150 + q*60\n",
    "                    if drop_x-20 < mx < drop_x+20 and y-20 < my < y+20:\n",
    "                        if dragging_gate == \"CNOT\":\n",
    "                            control = q\n",
    "                            target = 1 - q\n",
    "                            qiskit_circuit.cx(control, target)\n",
    "                            gate_history.append((\"CNOT\", control, target))\n",
    "                            players[current_player].gates[\"CNOT\"] -= 1\n",
    "                            next_player()\n",
    "                            measurement_result = None\n",
    "                            dropped = True\n",
    "                            break\n",
    "                        elif dragging_gate == \"SWAP\":\n",
    "                            qiskit_circuit.swap(0, 1)\n",
    "                            gate_history.append((\"SWAP\", 0, 1))\n",
    "                            players[current_player].gates[\"SWAP\"] -= 1\n",
    "                            next_player()\n",
    "                            measurement_result = None\n",
    "                            dropped = True\n",
    "                            break\n",
    "                        else:\n",
    "                            if dragging_gate == \"H\":\n",
    "                                qiskit_circuit.h(q)\n",
    "                            elif dragging_gate == \"X\":\n",
    "                                qiskit_circuit.x(q)\n",
    "                            elif dragging_gate == \"Y\":\n",
    "                                qiskit_circuit.y(q)\n",
    "                            elif dragging_gate == \"Z\":\n",
    "                                qiskit_circuit.z(q)\n",
    "                            gate_history.append((dragging_gate, q))\n",
    "                            players[current_player].gates[dragging_gate] -= 1\n",
    "                            next_player()\n",
    "                            measurement_result = None\n",
    "                            dropped = True\n",
    "                            break\n",
    "                # Insert decoherence gate every 4 user-placed gates\n",
    "                placed_gates = [g for g in gate_history[2:] if g[0] != \"DECOH\"]\n",
    "                if len(placed_gates) > 0 and len(placed_gates) % 4 == 0:\n",
    "                     gate_history.append((\"DECOH\", None))\n",
    "                dragging_gate = None\n",
    "                drag_pos = (0,0)\n",
    "        elif event.type == pygame.MOUSEMOTION:\n",
    "            if dragging_gate:\n",
    "                drag_pos = event.pos"
   ]
  },
  {
   "cell_type": "markdown",
   "id": "6be242fe",
   "metadata": {},
   "source": [
    "### Notre menu principal"
   ]
  },
  {
   "cell_type": "markdown",
   "id": "3289b772",
   "metadata": {},
   "source": [
    "![System diagram](resources/starting_menu.JPG)"
   ]
  },
  {
   "cell_type": "markdown",
   "id": "280b9815",
   "metadata": {},
   "source": [
    "### Notre réseaux de noeuds directionel sans bloquage\n",
    "![System diagram](resources/game_1.JPG)\n",
    "### Réseaux de noeuds directionel avec bloquage après avoir mesuré 01 ou 10\n",
    "![System diagram](resources/game_2.JPG)"
   ]
  },
  {
   "cell_type": "markdown",
   "id": "cf836a36",
   "metadata": {},
   "source": [
    "### Image du mini-jeu quantique dont le but est de choisir un état favorable pour gagner une étoile. La mesure affecte la carte au complet"
   ]
  },
  {
   "cell_type": "markdown",
   "id": "d7753298",
   "metadata": {},
   "source": [
    "![System diagram](resources/editeur_2.jpg)"
   ]
  },
  {
   "cell_type": "markdown",
   "id": "92d4869a",
   "metadata": {},
   "source": [
    "### Win condition/image du gagnant\n",
    "La win condition : celui qui a collecter le plus d'étoile (*) + le plus de gates gagne"
   ]
  },
  {
   "cell_type": "markdown",
   "id": "4ede7c6a",
   "metadata": {},
   "source": [
    "![System diagram](resources/winning_screen.png)"
   ]
  }
 ],
 "metadata": {
  "kernelspec": {
   "display_name": "venv",
   "language": "python",
   "name": "python3"
  },
  "language_info": {
   "codemirror_mode": {
    "name": "ipython",
    "version": 3
   },
   "file_extension": ".py",
   "mimetype": "text/x-python",
   "name": "python",
   "nbconvert_exporter": "python",
   "pygments_lexer": "ipython3",
   "version": "3.12.6"
  }
 },
 "nbformat": 4,
 "nbformat_minor": 5
}
