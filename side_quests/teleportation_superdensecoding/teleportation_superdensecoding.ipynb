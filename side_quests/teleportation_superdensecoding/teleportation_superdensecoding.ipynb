{
 "cells": [
  {
   "cell_type": "markdown",
   "metadata": {},
   "source": [
    "# Entanglement\n",
    "\n",
    "**Superdense coding** and **Teleportation** are two quantum protocols, that are making use of entanglement to send and receive classical and quantum information, respectively. It is worth reviewing or discovering this phenomenon unique to quantum mechanics!\n",
    "\n",
    "## Presentation\n",
    "Entanglement arises in multiqubit systems.\n",
    "\n",
    "Two qubits are said to be entangled if their combined state cannot be written as the tensor product of two one-qubit states.\n",
    "\n",
    "__Example__:\n",
    "\n",
    "1. $|\\phi\\rangle = \\frac{1}{2}\\left( |00\\rangle + |01\\rangle + |10\\rangle + |11\\rangle\\right) = \\left( \\frac{1}{\\sqrt{2}} \\left(0\\rangle+ |1\\rangle\\right) \\right)\\otimes \\left(\\frac{1}{\\sqrt{2}}\\left(|0\\rangle + |1\\rangle\\right)\\right)$\n",
    "\n",
    "2. $|\\Phi^{+}\\rangle = \\frac{1}{\\sqrt{2}}\\left( |00\\rangle +|11\\rangle \\right)$\n",
    "\n",
    "State $|\\phi\\rangle$ is separable as it can be rewritten as the tensor product of the individual qubits' state.\n",
    "\n",
    "In opposition, state $|\\Phi^{+}\\rangle$ is an entangled state as it cannot be rewritten as a tensor product of the individual qubits' states.<br>\n",
    "One must think of these two qubits as one singular system of its own!<br>\n",
    "\n",
    "Actually, $|\\Phi^{+}\\rangle$ is one of the 4 maximally entangled 2-qubit states called the Bell states.\n",
    "\n",
    "## Bell states\n",
    "The Bell states are 2-qubit quantum states that are the simplest examples of entangled states.\n",
    "The four Bell states are:\n",
    "- $|\\Phi^{+}\\rangle = \\frac{1}{\\sqrt{2}}\\left( |00\\rangle +|11\\rangle \\right)$\n",
    "- $|\\Phi^{-}\\rangle = \\frac{1}{\\sqrt{2}}\\left( |00\\rangle -|11\\rangle \\right)$\n",
    "- $|\\Psi^{+}\\rangle = \\frac{1}{\\sqrt{2}}\\left( |01\\rangle +|10\\rangle \\right)$\n",
    "- $|\\Psi^{-}\\rangle = \\frac{1}{\\sqrt{2}}\\left( |01\\rangle -|10\\rangle \\right)$\n",
    "\n",
    "Notice how the measurement of one qubit is correlated to the measurement of the second qubit in all the states present in the superpositions of each Bell states.\n",
    "\n",
    "In an entangled state, the information between qubits is shared in a way that the measurement results of individual qubits are correlated.\n",
    "\n",
    "We can generate the Bell states using a Hadamard gate, a CNOT gate, and some more one-qubit gates.<br>\n",
    "\n",
    "Run the example below to generate $|\\Phi^{+}\\rangle$"
   ]
  },
  {
   "cell_type": "code",
   "execution_count": 3,
   "metadata": {
    "ExecuteTime": {
     "end_time": "2025-05-29T18:59:25.594789Z",
     "start_time": "2025-05-29T18:59:21.352239Z"
    }
   },
   "outputs": [
    {
     "data": {
      "image/png": "[encoded data removed]",
      "text/plain": [
       "<Figure size 287.294x200.667 with 1 Axes>"
      ]
     },
     "execution_count": 3,
     "metadata": {},
     "output_type": "execute_result"
    }
   ],
   "source": [
    "# Generate the \"Phi +\" Bell state\n",
    "from qiskit import QuantumCircuit\n",
    "from qiskit.quantum_info import Statevector\n",
    "\n",
    "qc = QuantumCircuit(2)\n",
    "qc.h(0)\n",
    "qc.cx(control_qubit=0, target_qubit=1)\n",
    "qc.draw(\"mpl\")"
   ]
  },
  {
   "cell_type": "code",
   "execution_count": 4,
   "metadata": {
    "ExecuteTime": {
     "end_time": "2025-05-29T18:59:26.912110Z",
     "start_time": "2025-05-29T18:59:25.609035Z"
    }
   },
   "outputs": [
    {
     "name": "stdout",
     "output_type": "stream",
     "text": [
      "The statevector at the end of the circuit is:\n"
     ]
    },
    {
     "data": {
      "text/latex": [
       "$$\\frac{\\sqrt{2}}{2} |00\\rangle+\\frac{\\sqrt{2}}{2} |11\\rangle$$"
      ],
      "text/plain": [
       "<IPython.core.display.Latex object>"
      ]
     },
     "execution_count": 4,
     "metadata": {},
     "output_type": "execute_result"
    }
   ],
   "source": [
    "sv = Statevector(qc)\n",
    "str = sv.draw('latex')\n",
    "print(\"The statevector at the end of the circuit is:\")\n",
    "sv.draw('latex')\n",
    "\n",
    "# If the Bell states are new to you, you should try\n",
    "# to generate the 3 other Bell states as an exercise!"
   ]
  },
  {
   "cell_type": "markdown",
   "metadata": {},
   "source": [
    "# Superdense coding\n",
    "\n",
    "## Presentation\n",
    "\n",
    "Superdense coding is a quantum communication protocol that enables two people to exchange bits of classical information using a fewer number of qubits, granted the two parties shared a pair of entangled qubits beforehand.\n",
    "\n",
    "In a sense, superdense coding can be thought as the opposite of quantum teleportation, but we will touch on that in due time!\n",
    "\n",
    "## Protocol\n",
    "Let's say that Alice and Bob are the two parties who want to exchange a message using superdense coding. To do so, they will have to go through these steps:\n",
    "\n",
    "### 1. Preparation of the entangled pair of qubits\n",
    "First, they have to generate a pair of entangled qubits, say the Bell state $|\\Psi^+\\rangle = \\frac{1}{\\sqrt{2}}(|0\\rangle_A |0\\rangle_B + |1\\rangle_A |1\\rangle_B)$.\n",
    "\n",
    "### 2. Sharing the entangled qubits\n",
    "Alice and Bob, each take one entangled qubit, and travel to a different location.\n",
    "\n",
    "### 3. Alice encodes a message made of classical bits\n",
    "Alice can encode a message using two classical bits.<br>\n",
    "In other words, she can encode 4 messages: \"00\", \"01\", \"10\" and \"11\".\n",
    "\n",
    "She needs to apply a different set of quantum gates on her entangled qubit depending on which message she wants to send to Bob:\n",
    "- If she wants to send \"00\", she applies the identity operation\n",
    "- If she wants to send \"01\", she needs to apply the X gate to her qubit\n",
    "- If she wants to send \"10\", she needs to apply the Z gate to her qubit\n",
    "- If she wants to send \"11\", she needs to apply the X gate, then the Z gate to her qubit\n",
    "\n",
    "**Note**: In fact, Alice is applying gates to her entangled qubit to change the whole entangled system (i.e. the system composed of her qubit and Bob's!) into one of the 4 Bell states.\n",
    "\n",
    "### 4. Alice sends her entangled qubit to Bob\n",
    "Just like the title says, one qubit is transmitted to Bob.\n",
    "\n",
    "### 5. Bob decodes Alice's message\n",
    "In order to decode Alice's message (i.e. recover the classical bits), he needs to apply a CNOT gate on his qubit using Alice's qubit as control, then he needs to apply a Hadamard gate on Alice's qubit.\n",
    "\n",
    "**Note**: Bob is actually taking a Bell measurement: he uses a circuit that maps the Bell pairs to the 4 basis states of a 2-qubit system, namely $|00\\rangle, |01\\rangle, |10\\rangle$ and $|11\\rangle$.\n",
    "\n",
    "Finally, Bob measures his qubit then Alice's qubit (i.e. he measures the 2-qubit state $|q_A q_B\\rangle$) and decodes the message.\n",
    "\n",
    "## Challenge\n",
    "We ask you to:\n",
    "- Implement the superdense coding protocol described above\n",
    "\n",
    "- Show that your able to send and decode messages correctly\n",
    "\n",
    "- (Bonus) Implement superdense coding on a real quantum computer"
   ]
  },
  {
   "cell_type": "code",
   "execution_count": 5,
   "metadata": {
    "ExecuteTime": {
     "end_time": "2025-05-29T18:59:27.168451Z",
     "start_time": "2025-05-29T18:59:27.154431Z"
    }
   },
   "outputs": [],
   "source": [
    "from qiskit import QuantumCircuit, QuantumRegister, ClassicalRegister\n",
    "from qiskit.providers.basic_provider import BasicSimulator\n",
    "from qiskit import transpile\n",
    "from qiskit.visualization import plot_histogram\n",
    "import numpy as np"
   ]
  },
  {
   "cell_type": "code",
   "execution_count": 6,
   "metadata": {
    "ExecuteTime": {
     "end_time": "2025-05-29T18:59:27.176145Z",
     "start_time": "2025-05-29T18:59:27.173072Z"
    }
   },
   "outputs": [],
   "source": [
    "# Now, it's up to you!\n",
    "\n",
    "def prepare_entangled_qubits() -> QuantumCircuit:\n",
    "    \"\"\" Creates an entangled pair of qubits.\n",
    "    q0 = Bob's qubit\n",
    "    q1 = Alice's qubit\n",
    "    \"\"\"\n",
    "\n",
    "    qc = QuantumCircuit(2)\n",
    "    qc.h(0)\n",
    "    qc.cx(control_qubit=0, target_qubit=1)\n",
    "\n",
    "    return qc\n",
    "\n",
    "def alice_encodes_her_qubit(message: str) -> QuantumCircuit:\n",
    "    \"\"\"\"\n",
    "    Alice receives her qubit and encodes her message.\n",
    "    - If the message is \"00\", she applies identity\n",
    "    - If the message is \"01\", she applies X\n",
    "    - If the message is \"10\", she applies Z\n",
    "    - If the message is \"11\", she applies X, then Z\n",
    "    \"\"\"\n",
    "\n",
    "    qc = QuantumCircuit(1)\n",
    "    \n",
    "    if message[1] == '1':\n",
    "        qc.x(0)\n",
    "    if message[0] == '1':\n",
    "        qc.z(0)\n",
    "    \n",
    "    return qc\n",
    "\n",
    "def bob_decodes_the_message() -> QuantumCircuit:\n",
    "    \"\"\"\n",
    "    Bob received his qubit, and travelled somewhere remote.\n",
    "    Eventually, he receives Alice's qubit and decodes her message.\n",
    "    q0 = Bob's qubit\n",
    "    q1 = Alice's qubit\n",
    "    \"\"\"\n",
    "    \n",
    "    qc = QuantumCircuit(2, 2) # the first parameter is the size of the quantum register, the second is the size of the classical register\n",
    "\n",
    "    qc.cx(control_qubit=0, target_qubit=1) # Bob applies a CNOT gate with his qubit as control and Alice's qubit as target\n",
    "    qc.h(0) # Bob applies a Hadamard gate on his qubit\n",
    "\n",
    "    qc.barrier()\n",
    "\n",
    "    qc.measure([1, 0], [1, 0]) # maps the measurement results of q0 and q1 on classical bit b0 and b1, respectively\n",
    "\n",
    "    return qc\n",
    "\n",
    "def create_superdense_circuit(message: str) -> QuantumCircuit:\n",
    "    \"\"\" \n",
    "    Assembles the superdense coding circuit.\n",
    "    q0 = Bob's qubit\n",
    "    q1 = Alice's qubit\n",
    "    \"\"\"\n",
    "    alice_qubit = QuantumRegister(1, 'Alice')\n",
    "    bob_qubit = QuantumRegister(1, 'Bob')\n",
    "    alice_bit = ClassicalRegister(1, 'Alice_msrnt')\n",
    "    bob_bit = ClassicalRegister(1, 'Bob_msrnt')\n",
    "\n",
    "    qc = QuantumCircuit(bob_qubit, alice_qubit, bob_bit, alice_bit)\n",
    "    \n",
    "    # Use the QuantumCircuit function .append(circuit.to_instruction(), [list of qubit indices where to append circuit], [list of classical bits indices])\n",
    "    \n",
    "\n",
    "    # Prepare a pair of entangled qubits \n",
    "    \n",
    "    qc.append(prepare_entangled_qubits(), [alice_qubit[0], bob_qubit[0]], [])\n",
    "\n",
    "    qc.barrier()\n",
    "\n",
    "    # Alice receives her entangled qubit and encodes a message\n",
    "    \n",
    "    qc.append(alice_encodes_her_qubit(message), [alice_qubit[0]], [])\n",
    "\n",
    "    qc.barrier()\n",
    "\n",
    "    # Alice sends her encoded qubit to Bob who received his entangled qubit.\n",
    "    # He proceeds to decode Alice's message\n",
    "    \n",
    "    qc.append(bob_decodes_the_message(), [alice_qubit[0], bob_qubit[0]], [alice_bit[0], bob_bit[0]])\n",
    "\n",
    "    return qc"
   ]
  },
  {
   "cell_type": "code",
   "execution_count": 7,
   "metadata": {
    "ExecuteTime": {
     "end_time": "2025-05-29T18:59:27.195808Z",
     "start_time": "2025-05-29T18:59:27.180683Z"
    }
   },
   "outputs": [
    {
     "data": {
      "text/html": [
       "<pre style=\"word-wrap: normal;white-space: pre;background: #fff0;line-height: 1.1;font-family: &quot;Courier New&quot;,Courier,monospace\">                    ┌───┐ ░       ░ ┌───┐      ░ ┌─┐   \n",
       "          Bob: ─────┤ X ├─░───────░─┤ X ├──────░─┤M├───\n",
       "               ┌───┐└─┬─┘ ░ ┌───┐ ░ └─┬─┘┌───┐ ░ └╥┘┌─┐\n",
       "        Alice: ┤ H ├──■───░─┤ Z ├─░───■──┤ H ├─░──╫─┤M├\n",
       "               └───┘      ░ └───┘ ░      └───┘ ░  ║ └╥┘\n",
       "  Bob_msrnt: 1/═══════════════════════════════════╩══╬═\n",
       "                                                  0  ║ \n",
       "Alice_msrnt: 1/══════════════════════════════════════╩═\n",
       "                                                     0 </pre>"
      ],
      "text/plain": [
       "                    ┌───┐ ░       ░ ┌───┐      ░ ┌─┐   \n",
       "          Bob: ─────┤ X ├─░───────░─┤ X ├──────░─┤M├───\n",
       "               ┌───┐└─┬─┘ ░ ┌───┐ ░ └─┬─┘┌───┐ ░ └╥┘┌─┐\n",
       "        Alice: ┤ H ├──■───░─┤ Z ├─░───■──┤ H ├─░──╫─┤M├\n",
       "               └───┘      ░ └───┘ ░      └───┘ ░  ║ └╥┘\n",
       "  Bob_msrnt: 1/═══════════════════════════════════╩══╬═\n",
       "                                                  0  ║ \n",
       "Alice_msrnt: 1/══════════════════════════════════════╩═\n",
       "                                                     0 "
      ]
     },
     "execution_count": 7,
     "metadata": {},
     "output_type": "execute_result"
    }
   ],
   "source": [
    "qc = create_superdense_circuit(\"10\")\n",
    "# You can check the configuration of the circuit you built\n",
    "qc.decompose().draw()"
   ]
  },
  {
   "cell_type": "code",
   "execution_count": 8,
   "metadata": {
    "ExecuteTime": {
     "end_time": "2025-05-29T18:59:27.203201Z",
     "start_time": "2025-05-29T18:59:27.200985Z"
    }
   },
   "outputs": [],
   "source": [
    "def check_superdense_protocol(protocol: QuantumCircuit, simulator: BasicSimulator) -> dict[str, str]:\n",
    "    \"\"\" \n",
    "    Runs the superdense coding protocol for all possible messages, and check if the messages are decoded correctly\n",
    "    \"\"\"\n",
    "    messages = {\"00\":None, \"01\": None, \"10\": None, \"11\": None}\n",
    "\n",
    "    for message in messages.keys():\n",
    "        qc = transpile(protocol(message), simulator)\n",
    "        result = simulator.run(qc).result()\n",
    "        counts = result.get_counts()\n",
    "        messages[message] = max(counts, key=counts.get)\n",
    "    \n",
    "    return messages     \n"
   ]
  },
  {
   "cell_type": "code",
   "execution_count": 9,
   "metadata": {
    "ExecuteTime": {
     "end_time": "2025-05-29T18:59:29.445857Z",
     "start_time": "2025-05-29T18:59:27.208471Z"
    }
   },
   "outputs": [
    {
     "name": "stdout",
     "output_type": "stream",
     "text": [
      "Message was 00. Decoded message is 0 0\n",
      "Message was 01. Decoded message is 0 1\n",
      "Message was 10. Decoded message is 1 0\n",
      "Message was 11. Decoded message is 1 1\n"
     ]
    }
   ],
   "source": [
    "simulator = BasicSimulator()\n",
    "\n",
    "messages = check_superdense_protocol(create_superdense_circuit, simulator)\n",
    "\n",
    "# Verify the protocol works\n",
    "for k, v in messages.items():\n",
    "    print(\"Message was {0}. Decoded message is {1}\".format(k,v))"
   ]
  },
  {
   "cell_type": "markdown",
   "metadata": {},
   "source": [
    "### Evaluation\n",
    "- Show that you are able to decode all the messages by showing a mentor the output of the previous cell\n",
    "\n",
    "- Show a mentor the circuit using \"qc.decompose().draw()\" for all messages"
   ]
  },
  {
   "cell_type": "markdown",
   "metadata": {},
   "source": [
    "## Superdense coding on a real quantum computer"
   ]
  },
  {
   "cell_type": "markdown",
   "metadata": {},
   "source": [
    "### Retrieve your IBM token\n",
    "You should already have created a Pinq2 and IBM account using the same email address.\n",
    "\n",
    "1. Go to [Pinq2 website](https://www.pinq2.com/)\n",
    "\n",
    "2. Enter your account credentials\n",
    "\n",
    "3. Click on \"Plateform Quantum Computing\", this will redirect you to the \"IBM Quantum Platform\" dashboard where you can monitor the jobs you will send for execution on real quantum hardware.\n",
    "\n",
    "4. Your API token will be on the top right corner, copy it and use it in the following coding cell"
   ]
  },
  {
   "cell_type": "code",
   "execution_count": 10,
   "metadata": {
    "ExecuteTime": {
     "end_time": "2025-05-29T18:59:29.712918Z",
     "start_time": "2025-05-29T18:59:29.460767Z"
    }
   },
   "outputs": [],
   "source": [
    "from qiskit_ibm_runtime import QiskitRuntimeService, SamplerV2 as Sampler\n",
    "from qiskit.transpiler import generate_preset_pass_manager\n",
    " \n",
    " # Get your IBM token and write it here\n",
    "token = \"17f0749c12d447b03b81a47ab9356b06678f76b5eda85276e8dbf5bd427bfcbd1106501ba445f05726b4fd6741e84515ff5446ac79f9aabde917cb9c670657b5\"\n",
    "instance = \"ibm-q/open/main\"\n",
    "\n",
    "# Instanciate a session for using IBM quantum hardware\n",
    "service = QiskitRuntimeService(channel=\"ibm_quantum\", instance=instance, token=token)"
   ]
  },
  {
   "cell_type": "code",
   "execution_count": 11,
   "metadata": {},
   "outputs": [
    {
     "name": "stdout",
     "output_type": "stream",
     "text": [
      "Running experiment on backend: ibm_brisbane\n"
     ]
    },
    {
     "name": "stderr",
     "output_type": "stream",
     "text": [
      "c:\\Users\\fwilh\\.conda\\envs\\iqucodefest\\Lib\\site-packages\\qiskit_ibm_runtime\\qiskit_runtime_service.py:919: UserWarning: IBM Quantum Platform is moving, and this version will be sunset on July 1. To get started on the new platform, read the migration guide at https://docs.quantum.ibm.com/migration-guides/classic-iqp-to-cloud-iqp\n",
      "  warnings.warn(warning_message)\n"
     ]
    }
   ],
   "source": [
    "\"\"\"\" \n",
    "Use IBM quantum computer\n",
    "\"\"\"\n",
    "\n",
    "# Check for the least busy backend (i.e. quantum processor) and select it\n",
    "backend = service.least_busy(operational=True, simulator=False)\n",
    "print(\"Running experiment on backend: {}\".format(backend.name))\n",
    "\n",
    "# Instanciate the circuit to be run on the quantum computer\n",
    "# and its various parameters, as well as experiment parameters\n",
    "#TODO: Try different messages and #shots\n",
    "shots = 500 # Add the number of times you want to run the experiment to gather statistics\n",
    "message = \"10\" \n",
    "sampler = Sampler(backend)\n",
    "qc = create_superdense_circuit(message)\n",
    "\n",
    "# The native quantum gates implemented on a quantum processor may vary between different backends.\n",
    "# The preset manager is a tool that transpiles the circuit, that is, it will convert the circuit into instructions\n",
    "# that can run on the specified quantum computer, given its native quantum gate set.\n",
    "pm = generate_preset_pass_manager(backend=backend, optimization_level=1) # You can try different optimization_level!\n",
    "isa_circuit = pm.run(qc)\n",
    "\n",
    "# Send the circuit to implement on the quantum computer\n",
    "# It might take a while for the job to complete (several minutes to hours if the traffic is heavy)\n",
    "# You can go to the job dashboard on a browser to check the status of your job.\n",
    "job = sampler.run([isa_circuit], shots=shots).result()"
   ]
  },
  {
   "cell_type": "code",
   "execution_count": 12,
   "metadata": {},
   "outputs": [
    {
     "data": {
      "image/png": "[encoded data removed]",
      "text/plain": [
       "<Figure size 640x480 with 1 Axes>"
      ]
     },
     "execution_count": 12,
     "metadata": {},
     "output_type": "execute_result"
    }
   ],
   "source": [
    "\"\"\" Post-processing of the results \"\"\"\n",
    "\n",
    "# Extract the measurement results of Bob's qubit and Alice's\n",
    "# and plot the count statistics, just like we did with the simulator!\n",
    "pub_result = job[0]\n",
    "joint_counts = pub_result.join_data().get_counts()\n",
    "plot_histogram(joint_counts)\n"
   ]
  },
  {
   "cell_type": "code",
   "execution_count": 13,
   "metadata": {},
   "outputs": [
    {
     "name": "stdout",
     "output_type": "stream",
     "text": [
      "The message was '10' and the decoded message is '10'.\n"
     ]
    }
   ],
   "source": [
    "print(\"The message was '{0}' and the decoded message is '{1}'.\".format(message, max(joint_counts, key=joint_counts.get)))"
   ]
  },
  {
   "cell_type": "code",
   "execution_count": 14,
   "metadata": {},
   "outputs": [
    {
     "data": {
      "text/plain": [
       "' Analysis \\nTry the superdense coding protocol for every possible message using a real quantum computer.\\nHow do your results on the quantum computer compare to the ones you found using the simulator in this notebook?\\n'"
      ]
     },
     "execution_count": 14,
     "metadata": {},
     "output_type": "execute_result"
    }
   ],
   "source": [
    "\"\"\" Analysis \n",
    "Try the superdense coding protocol for every possible message using a real quantum computer.\n",
    "How do your results on the quantum computer compare to the ones you found using the simulator in this notebook?\n",
    "\"\"\""
   ]
  },
  {
   "cell_type": "code",
   "execution_count": null,
   "metadata": {},
   "outputs": [],
   "source": [
    "# If you want to take a look at what the transpiled teleportation circuit\n",
    "# looks like after transpilation on the backend you used, run this cell\n",
    "# The output may be quite big depending on the number of qubits available on \n",
    "# the specific backend that used\n",
    "isa_circuit.draw()"
   ]
  },
  {
   "cell_type": "markdown",
   "metadata": {},
   "source": [
    "# Quantum teleportation\n",
    "\n",
    "## Presentation\n",
    "Quantum teleportation is a method that enables the transmission of quantum information from one location to another, by making use of a single classical information channel, granted a pair of two entangled qubits was shared beforehand between the transmitter and receiver.\n",
    "\n",
    "## Protocol\n",
    "Imagine that Alice and Bob are two quantum developpers.\n",
    "\n",
    "Knowing that Bob will be away on the International Space Station for the next couple of months, Alice and Bob decides to share a few numbers of pairs of entangled qubits in case they need to communicate during Bob's space outing.\n",
    "\n",
    "One day, Alice generates an interesting quantum state that she would like to share with Bob. She decides to use the following steps to teleport it on board of the ISS:\n",
    "\n",
    "### 1. Alice performs a Bell measurement on her qubit and the qubit to teleport\n",
    "A Bell measurement is a transformation that maps the 4 Bell states to the 2-qubit basis states, namely $|00\\rangle, |01\\rangle, |10\\rangle$ and $|11\\rangle$.\n",
    "\n",
    "In terms of circuit instructions, Alice needs to apply a CNOT on the qubit she wants to teleport using her own qubit as control. Then, she needs to apply a Hadamard gate to the qubit to teleport.\n",
    "<br>\n",
    "(You have already seen a Bell measurement during the superdense coding protocol!).\n",
    "\n",
    "Next, Alice performs a measurement on her own qubit and another one on the qubit she wants to teleport to Bob.\n",
    "\n",
    "Finally, Alice sends both measurement results to Bob using a classical communication channel, say over the radio.\n",
    "\n",
    "### 2. Bob recreates the quantum state on his qubit using Alice's measurement results\n",
    "After reception of Alice's measurement results, Bob applies the following correction to his qubit.<br> If Alice's result is :\n",
    "- $b_{A}b_{|\\phi\\rangle}=00$, Bob doesn't need to do anything\n",
    "- $b_{A}b_{|\\phi\\rangle}=01$, Bob needs to apply the Z gate to his qubit\n",
    "- $b_{A}b_{|\\phi\\rangle}=10$, Bob needs to apply the X gate to his qubit\n",
    "- $b_{A}b_{|\\phi\\rangle}=11$, Bob needs to apply the X gate, followed by the Z gate, to his qubit\n",
    "\n",
    "$b_{A}$: Alice's result after measuring her qubit<br>\n",
    "$b_{|\\phi\\rangle}$: the result after measuring the qubit to teleport.\n",
    "\n",
    "\n",
    "## Challenge\n",
    "We ask you to:\n",
    "- Implement the teleportation protocol described above\n",
    "\n",
    "- Show that it works correctly\n",
    "\n",
    "- (Bonus) Implement teleportation on a real quantum computer"
   ]
  },
  {
   "cell_type": "code",
   "execution_count": 16,
   "metadata": {},
   "outputs": [],
   "source": [
    "from qiskit.quantum_info import Statevector\n",
    "from qiskit import QuantumCircuit, ClassicalRegister, QuantumRegister\n",
    "from qiskit_aer import AerSimulator, StatevectorSimulator\n",
    "from qiskit.circuit.library import UGate\n",
    "from qiskit import transpile\n",
    "from qiskit.result import marginal_distribution\n",
    "import numpy.random as random"
   ]
  },
  {
   "cell_type": "code",
   "execution_count": 17,
   "metadata": {},
   "outputs": [],
   "source": [
    "def create_state_phi(state: str, params: dict[str, float]) -> QuantumCircuit:\n",
    "    \"\"\" We need to generate a quantum state to teleport.\n",
    "    We will teleport 3 types of quantum states precised by \"state\":\n",
    "    - \"0\": the quantum state |0>\n",
    "    - \"1\": the quantum state |1>\n",
    "    - \"random\": a random quantum state of the form |phi> = a|0> + b|1>\n",
    "    - params: stores the angles \"theta\", \"phi\" and \"lam\" necesseray to build the random quantum state\n",
    "    \"\"\"\n",
    "    qc = QuantumCircuit(1)\n",
    "\n",
    "    if state == \"0\":\n",
    "        pass\n",
    "\n",
    "    elif state == \"1\":\n",
    "        qc.x(0)\n",
    "    \n",
    "    elif state == \"random\":\n",
    "        # Create a random quantum state by using the general quantum gate U from qiskit\n",
    "        qc.u(params['theta'], params['phi'], params['lam'], 0)\n",
    "\n",
    "    return qc\n",
    "\n",
    "def prepare_entangled_qubits() -> QuantumCircuit:\n",
    "    \"\"\" Creates an entangled pair of qubits. \n",
    "    q0 = Alice's qubit\n",
    "    q1 = Bob's qubit\n",
    "    \"\"\"\n",
    "    \n",
    "    qc = QuantumCircuit(2)\n",
    "\n",
    "    qc.h(0)\n",
    "    qc.cx(control_qubit=0, target_qubit=1)\n",
    "\n",
    "    return qc\n",
    "\n",
    "def alice_performs_a_bell_measurement() -> QuantumCircuit:\n",
    "    \"\"\"\n",
    "    Alice performs a Bell measurement on her qubit and the qubit to teleport.\n",
    "    q0 = state |phi>\n",
    "    q1 = Alice's qubit\n",
    "    \"\"\"\n",
    "    qc = QuantumCircuit(2, 2)\n",
    "\n",
    "    qc.cx(control_qubit=0, target_qubit=1)\n",
    "    qc.h(0)\n",
    "\n",
    "    qc.barrier()\n",
    "    qc.measure([0, 1], [0, 1])\n",
    "    \n",
    "    return qc\n",
    "\n",
    "def bob_corrects_his_qubit() -> QuantumCircuit:\n",
    "    \"\"\"\n",
    "    Bob corrects his qubit depending on the result of Alice's measurements.\n",
    "    - If Alice qubit is in the state |1> after measurement, he needs to apply Z\n",
    "    - If the qubit to teleport is in the state |1> after measurement, he needs to apply X\n",
    "    q0 = qubit to teleport\n",
    "    q1 = Alice\n",
    "    q2 = Bob\n",
    "    \"\"\"\n",
    "    qc = QuantumCircuit(3)\n",
    "\n",
    "    qc.cx(control_qubit=1, target_qubit=2)  # If Alice's qubit is |1>, Bob applies X\n",
    "    qc.cz(control_qubit=0, target_qubit=2)  # If the qubit to teleport is |1>, Bob applies Z\n",
    "\n",
    "    return qc\n",
    "\n",
    "def build_teleportation_circuit(state: str, params) -> QuantumCircuit:\n",
    "    \"\"\"\" \n",
    "    Assembles all the quantum circuits to build the teleportation circuit.\n",
    "    state = string precising which state to teleport \"0\", \"1\" or \"random\"\n",
    "    q0 = qubit to teleport\n",
    "    q1 = Alice\n",
    "    q2 = Bob\n",
    "    \"\"\"\n",
    "    tele_qubit = QuantumRegister(1, 'qubit X')\n",
    "    alice_qubit = QuantumRegister(1, 'Alice')\n",
    "    bob_qubit = QuantumRegister(1, 'Bob')\n",
    "    alice_bit = ClassicalRegister(1, 'Alice_msrnt')\n",
    "    tele_bit = ClassicalRegister(1, 'X_msrnt')\n",
    "    bob_bit = ClassicalRegister(1, 'Bob_msrnt')\n",
    "\n",
    "    qc = QuantumCircuit(tele_qubit, alice_qubit, bob_qubit, tele_bit, alice_bit, bob_bit)\n",
    "\n",
    "    # Use the QuantumCircuit function .append(circuit.to_instruction(), [list of qubit indices where to append circuit], [list of classical bits indices])\n",
    "\n",
    "    # Create the teleported state |phi>\n",
    "\n",
    "    qc.append(create_state_phi(state, params), [tele_qubit[0]], [])\n",
    "\n",
    "    qc.barrier()\n",
    "\n",
    "    # Prepare the entangled qubits\n",
    "\n",
    "    qc.append(prepare_entangled_qubits(), [alice_qubit[0], bob_qubit[0]], [])\n",
    "\n",
    "    qc.barrier()\n",
    "\n",
    "    # Alice performs the bell measurements\n",
    "\n",
    "    qc.append(alice_performs_a_bell_measurement(), [tele_qubit[0], alice_qubit[0]], [tele_bit[0], alice_bit[0]])\n",
    "\n",
    "    qc.barrier()\n",
    "\n",
    "    # Bob receives the information from Alice and performs the necessary corrections on his qubit\n",
    "\n",
    "    qc.append(bob_corrects_his_qubit(), [tele_qubit[0], alice_qubit[0], bob_qubit[0]], [])\n",
    "\n",
    "    qc.barrier()\n",
    "\n",
    "    # Apply inverse of the teleported state to check if the protocol was successful!\n",
    "    # If it is a success, you should read |0> after applying the inverse of the teleported qubit on Bob's qubit after he applied the corrections.\n",
    "    \n",
    "    qc.append(create_state_phi(state, params).inverse(), [bob_qubit[0]], [])\n",
    "\n",
    "    # Measure Bob's qubit and store it's value in a classical bit\n",
    "    qc.measure([2], [2])\n",
    "\n",
    "    return qc\n"
   ]
  },
  {
   "cell_type": "code",
   "execution_count": 25,
   "metadata": {},
   "outputs": [
    {
     "data": {
      "text/html": [
       "<pre style=\"word-wrap: normal;white-space: pre;background: #fff0;line-height: 1.1;font-family: &quot;Courier New&quot;,Courier,monospace\">               ┌───┐ ░            ░      ┌───┐ ░ ┌─┐    ░          ░         \n",
       "      qubit X: ┤ X ├─░────────────░───■──┤ H ├─░─┤M├────░───────■──░─────────\n",
       "               └───┘ ░ ┌───┐      ░ ┌─┴─┐└───┘ ░ └╥┘┌─┐ ░       │  ░         \n",
       "        Alice: ──────░─┤ H ├──■───░─┤ X ├──────░──╫─┤M├─░───■───┼──░─────────\n",
       "                     ░ └───┘┌─┴─┐ ░ └───┘      ░  ║ └╥┘ ░ ┌─┴─┐ │  ░ ┌───┐┌─┐\n",
       "          Bob: ──────░──────┤ X ├─░───────────────╫──╫──░─┤ X ├─■──░─┤ X ├┤M├\n",
       "                     ░      └───┘ ░               ║  ║  ░ └───┘    ░ └───┘└╥┘\n",
       "    X_msrnt: 1/═══════════════════════════════════╩══╬═════════════════════╬═\n",
       "                                                  0  ║                     ║ \n",
       "Alice_msrnt: 1/══════════════════════════════════════╩═════════════════════╬═\n",
       "                                                     0                     ║ \n",
       "  Bob_msrnt: 1/════════════════════════════════════════════════════════════╩═\n",
       "                                                                           0 </pre>"
      ],
      "text/plain": [
       "               ┌───┐ ░            ░      ┌───┐ ░ ┌─┐    ░          ░         \n",
       "      qubit X: ┤ X ├─░────────────░───■──┤ H ├─░─┤M├────░───────■──░─────────\n",
       "               └───┘ ░ ┌───┐      ░ ┌─┴─┐└───┘ ░ └╥┘┌─┐ ░       │  ░         \n",
       "        Alice: ──────░─┤ H ├──■───░─┤ X ├──────░──╫─┤M├─░───■───┼──░─────────\n",
       "                     ░ └───┘┌─┴─┐ ░ └───┘      ░  ║ └╥┘ ░ ┌─┴─┐ │  ░ ┌───┐┌─┐\n",
       "          Bob: ──────░──────┤ X ├─░───────────────╫──╫──░─┤ X ├─■──░─┤ X ├┤M├\n",
       "                     ░      └───┘ ░               ║  ║  ░ └───┘    ░ └───┘└╥┘\n",
       "    X_msrnt: 1/═══════════════════════════════════╩══╬═════════════════════╬═\n",
       "                                                  0  ║                     ║ \n",
       "Alice_msrnt: 1/══════════════════════════════════════╩═════════════════════╬═\n",
       "                                                     0                     ║ \n",
       "  Bob_msrnt: 1/════════════════════════════════════════════════════════════╩═\n",
       "                                                                           0 "
      ]
     },
     "execution_count": 25,
     "metadata": {},
     "output_type": "execute_result"
    }
   ],
   "source": [
    "# You can check the configuration of the circuit you built\n",
    "state_to_teleport = \"1\"\n",
    "params = {\n",
    "    'theta': random.uniform(0, 2 * np.pi),\n",
    "    'phi': random.uniform(0, 2 * np.pi),\n",
    "    'lam': random.uniform(0, 2 * np.pi)\n",
    "}\n",
    "circuit = build_teleportation_circuit(state_to_teleport, params)\n",
    "circuit.decompose().draw()\n"
   ]
  },
  {
   "cell_type": "code",
   "execution_count": 19,
   "metadata": {},
   "outputs": [
    {
     "data": {
      "image/png": "[encoded data removed]",
      "text/plain": [
       "<Figure size 640x480 with 1 Axes>"
      ]
     },
     "metadata": {},
     "output_type": "display_data"
    }
   ],
   "source": [
    "# Run the teleportation circuit\n",
    "shots = 1000\n",
    "simulator = AerSimulator()\n",
    "state = \"1\"\n",
    "random_params = {\n",
    "    'theta': random.uniform(0, 2 * np.pi),\n",
    "    'phi': random.uniform(0, 2 * np.pi),\n",
    "    'lam': random.uniform(0, 2 * np.pi)\n",
    "}\n",
    "\n",
    "qc = build_teleportation_circuit(state, params)\n",
    "\n",
    "qc = transpile(qc, simulator)\n",
    "\n",
    "result = simulator.run(qc, shots=shots).result()\n",
    "\n",
    "counts = result.get_counts()\n",
    "\n",
    "# Count statistics, q2 should give the same result everytime \"0\" or \"1\" depending on which state was teleported\n",
    "# Except when the random quantum state is teleported!\n",
    "# plot_histogram(counts)\n",
    "\n",
    "# Here we only look at the result qubit at the end of the teleportation circuit\n",
    "# If it's 0, the teleportation was a success!\n",
    "filtered_statistics = marginal_distribution(counts, [2])\n",
    "display(plot_histogram(filtered_statistics))"
   ]
  },
  {
   "cell_type": "markdown",
   "metadata": {},
   "source": [
    "### Evaluation\n",
    "- Show a mentor the output histogram of the teleportation circuit when teleporting a \"random\" quantum state\n",
    "\n",
    "- Show a mentor the circuit for the states \"0\", \"1\" and \"random\" using \"qc.decompose().draw()\""
   ]
  },
  {
   "cell_type": "markdown",
   "metadata": {},
   "source": [
    "## Teleportation on a real quantum computer"
   ]
  },
  {
   "cell_type": "markdown",
   "metadata": {},
   "source": [
    "### Retrieve your IBM token (if not already done in the superdense coding section)\n",
    "You should already have created a Pinq2 and IBM account using the same email address.\n",
    "\n",
    "1. Go to [Pinq2 website](https://www.pinq2.com/)\n",
    "\n",
    "2. Enter your account credentials\n",
    "\n",
    "3. Click on \"Plateform Quantum Computing\", this will redirect you to the \"IBM Quantum Platform\" dashboard where you can monitor the jobs you will send for execution on real quantum hardware.\n",
    "\n",
    "4. Your API token will be on the top right corner, copy it and use it in the following coding cell"
   ]
  },
  {
   "cell_type": "code",
   "execution_count": 20,
   "metadata": {},
   "outputs": [
    {
     "data": {
      "text/plain": [
       "' If you have already instanciated a service instance by giving your IBM token during the superdense coding section:\\n        pass\\nElse:\\n    uncomment and run this cell\\n'"
      ]
     },
     "execution_count": 20,
     "metadata": {},
     "output_type": "execute_result"
    }
   ],
   "source": [
    "\"\"\" If you have already instanciated a service instance by giving your IBM token during the superdense coding section:\n",
    "        pass\n",
    "Else:\n",
    "    uncomment and run this cell\n",
    "\"\"\"\n",
    "\n",
    "# from qiskit_ibm_runtime import QiskitRuntimeService, SamplerV2 as Sampler\n",
    "# from qiskit.transpiler import generate_preset_pass_manager\n",
    "# # Get your IBM token and write it here\n",
    "# token = \"<YOUR_IBM_TOKEN>\"\n",
    "# instance = '<THE_CORRECT_INSTANCE_PATH>'\n",
    "\n",
    "# # Instanciate a session for using IBM quantum hardware\n",
    "# service = QiskitRuntimeService(channel=\"ibm_quantum\", instance=instance, token=token)"
   ]
  },
  {
   "cell_type": "code",
   "execution_count": 21,
   "metadata": {},
   "outputs": [
    {
     "name": "stdout",
     "output_type": "stream",
     "text": [
      "Running experiment on backend: ibm_brisbane\n"
     ]
    },
    {
     "name": "stderr",
     "output_type": "stream",
     "text": [
      "c:\\Users\\fwilh\\.conda\\envs\\iqucodefest\\Lib\\site-packages\\qiskit_ibm_runtime\\qiskit_runtime_service.py:919: UserWarning: IBM Quantum Platform is moving, and this version will be sunset on July 1. To get started on the new platform, read the migration guide at https://docs.quantum.ibm.com/migration-guides/classic-iqp-to-cloud-iqp\n",
      "  warnings.warn(warning_message)\n"
     ]
    }
   ],
   "source": [
    "\"\"\"\" \n",
    "Use IBM quantum computer\n",
    "\"\"\"\n",
    "# Check for the least busy backend (i.e. quantum processor) and select it\n",
    "backend = service.least_busy(operational=True, simulator=False)\n",
    "print(\"Running experiment on backend: {}\".format(backend.name))\n",
    "\n",
    "# Instanciate the circuit to be run on the quantum computer\n",
    "# and its various parameters, as well as experiment parameters\n",
    "shots = 500 # Add the number of times you want to run the experiment to gather statistics\n",
    "qstate_to_teleport = \"random\"\n",
    "random_params = {None} #TODO: teleport the random state!\n",
    "\n",
    "sampler = Sampler(backend)\n",
    "\n",
    "qc = build_teleportation_circuit(qstate_to_teleport, params) # Choose a startin\n",
    "\n",
    "# The native quantum gates implemented on a quantum processor may vary between different backends.\n",
    "# The preset manager is a tool that transpiles the circuit, that is, it will convert the circuit into instructions\n",
    "# that can run on the specified quantum computer, given its native quantum gate set.\n",
    "pm = generate_preset_pass_manager(backend=backend, optimization_level=1) # You can try different optimization_level!\n",
    "isa_circuit = pm.run(qc)\n",
    "\n",
    "# Send the circuit to implement on the quantum computer\n",
    "# It might take a while for the job to complete (several minutes to hours if the traffic is heavy)\n",
    "# You can go to the job dashboard on a browser to check the status of your job.\n",
    "job = sampler.run([isa_circuit], shots=shots).result()"
   ]
  },
  {
   "cell_type": "code",
   "execution_count": 22,
   "metadata": {},
   "outputs": [
    {
     "data": {
      "image/png": "[encoded data removed]",
      "text/plain": [
       "<Figure size 640x480 with 1 Axes>"
      ]
     },
     "metadata": {},
     "output_type": "display_data"
    }
   ],
   "source": [
    "\"\"\" Post-processing of the results \"\"\"\n",
    "\n",
    "# Extract the measurement results of Bob's qubit\n",
    "# and plot the count statistics, just like we did with the simulator!\n",
    "pub_result = job[0]\n",
    "joint_counts = pub_result.join_data().get_counts()\n",
    "filtered_statistics = marginal_distribution(joint_counts, [2])\n",
    "display(plot_histogram(filtered_statistics))"
   ]
  },
  {
   "cell_type": "code",
   "execution_count": 23,
   "metadata": {},
   "outputs": [
    {
     "data": {
      "text/plain": [
       "' Analysis\\nHow do your results on the quantum computer compare to the ones you found using the simulator in this notebook?\\nTry the same experiment for different states.\\n'"
      ]
     },
     "execution_count": 23,
     "metadata": {},
     "output_type": "execute_result"
    }
   ],
   "source": [
    "\"\"\" Analysis\n",
    "How do your results on the quantum computer compare to the ones you found using the simulator in this notebook?\n",
    "Try the same experiment for different states.\n",
    "\"\"\""
   ]
  },
  {
   "cell_type": "code",
   "execution_count": null,
   "metadata": {},
   "outputs": [],
   "source": [
    "# If you want to take a look at what the transpiled teleportation circuit\n",
    "# looks like after transpilation on the backend you used, run this cell\n",
    "# The output may be quite big depending on the number of qubits available on \n",
    "# the specific backend that used\n",
    "isa_circuit.draw()"
   ]
  }
 ],
 "metadata": {
  "kernelspec": {
   "display_name": "iqucodefest",
   "language": "python",
   "name": "python3"
  },
  "language_info": {
   "codemirror_mode": {
    "name": "ipython",
    "version": 3
   },
   "file_extension": ".py",
   "mimetype": "text/x-python",
   "name": "python",
   "nbconvert_exporter": "python",
   "pygments_lexer": "ipython3",
   "version": "3.13.5"
  }
 },
 "nbformat": 4,
 "nbformat_minor": 2
}
